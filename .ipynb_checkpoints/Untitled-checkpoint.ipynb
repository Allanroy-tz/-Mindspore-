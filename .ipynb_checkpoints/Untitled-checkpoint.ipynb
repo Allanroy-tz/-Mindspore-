{
 "cells": [
  {
   "cell_type": "code",
   "execution_count": 1,
   "id": "a124ba54-f726-471a-b5fa-188055cc9159",
   "metadata": {},
   "outputs": [
    {
     "name": "stderr",
     "output_type": "stream",
     "text": [
      "INFO:root:Using MoXing-v2.0.0.rc2.4b57a67b-4b57a67b\n",
      "INFO:root:Using OBS-Python-SDK-3.20.9.1\n"
     ]
    }
   ],
   "source": [
    "import moxing as mox\n",
    "#src_url：用户自己创建的obs路径obs://wide-deep-tz\n",
    "mox.file.copy_parallel(src_url=\"obs://wide-deep-tz/wide_and_deep/\",dst_url=\"./\")\n",
    "mox.file.copy_parallel(src_url=\"obs://wide-deep-tz/data/\",dst_url=\"./data\")"
   ]
  },
  {
   "cell_type": "code",
   "execution_count": null,
   "id": "eddbcd52-436e-4467-be87-e627c8a0cca8",
   "metadata": {},
   "outputs": [],
   "source": []
  }
 ],
 "metadata": {
  "kernelspec": {
   "display_name": "MindSpore",
   "language": "python",
   "name": "mindspore"
  },
  "language_info": {
   "codemirror_mode": {
    "name": "ipython",
    "version": 3
   },
   "file_extension": ".py",
   "mimetype": "text/x-python",
   "name": "python",
   "nbconvert_exporter": "python",
   "pygments_lexer": "ipython3",
   "version": "3.7.6"
  }
 },
 "nbformat": 4,
 "nbformat_minor": 5
}
